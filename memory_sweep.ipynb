{
 "cells": [
  {
   "cell_type": "code",
   "execution_count": 2,
   "metadata": {},
   "outputs": [],
   "source": [
    "import os\n",
    "import subprocess\n",
    "FNULL = open(os.devnull, 'w')\n",
    "\n",
    "args_names = [\n",
    "    'batch-size',\n",
    "    'resnet-layers',\n",
    "]\n",
    "\n",
    "def run_script(args):\n",
    "\n",
    "    main_command = [\n",
    "        'python3',\n",
    "        'get_memory_alloc.py',\n",
    "    ]\n",
    "\n",
    "    options = {}\n",
    "    options.update(dict(zip(args_names, args)))\n",
    "    \n",
    "\n",
    "    whole_command = main_command\n",
    "    for k, v in options.items():\n",
    "        whole_command.append('--' + k)\n",
    "        whole_command.append(v)\n",
    "\n",
    "    print(whole_command)\n",
    "    process = subprocess.Popen(args=whole_command, stdout=FNULL)\n",
    "    return process"
   ]
  },
  {
   "cell_type": "code",
   "execution_count": 24,
   "metadata": {},
   "outputs": [
    {
     "name": "stdout",
     "output_type": "stream",
     "text": [
      "['python3', 'get_memory_alloc.py', '--batch-size', '224', '--resnet-layers', '34']\n"
     ]
    },
    {
     "name": "stderr",
     "output_type": "stream",
     "text": [
      "/usr0/home/kkuo2/miniconda3/lib/python3.9/site-packages/torchvision/models/_utils.py:208: UserWarning: The parameter 'pretrained' is deprecated since 0.13 and will be removed in 0.15, please use 'weights' instead.\n",
      "  warnings.warn(\n",
      "/usr0/home/kkuo2/miniconda3/lib/python3.9/site-packages/torchvision/models/_utils.py:223: UserWarning: Arguments other than a weight enum or `None` for 'weights' are deprecated since 0.13 and will be removed in 0.15. The current behavior is equivalent to passing `weights=ResNet34_Weights.IMAGENET1K_V1`. You can also use `weights=ResNet34_Weights.DEFAULT` to get the most up-to-date weights.\n",
      "  warnings.warn(msg)\n",
      "Traceback (most recent call last):\n",
      "  File \"/usr0/home/kkuo2/Documents/get_memory_alloc.py\", line 93, in <module>\n",
      "    mem = get_mem(model, args.batch_size, device, optimizer, criterion, logdir=f\"resnet{args.resnet_layers}_batch{args.batch_size}\")\n",
      "  File \"/usr0/home/kkuo2/Documents/get_memory_alloc.py\", line 46, in get_mem\n",
      "    loss = train(model, batch_data, device, optimizer, criterion)\n",
      "  File \"/usr0/home/kkuo2/Documents/get_memory_alloc.py\", line 17, in train\n",
      "    outputs = model(inputs)\n",
      "  File \"/usr0/home/kkuo2/miniconda3/lib/python3.9/site-packages/torch/nn/modules/module.py\", line 1130, in _call_impl\n",
      "    return forward_call(*input, **kwargs)\n",
      "  File \"/usr0/home/kkuo2/miniconda3/lib/python3.9/site-packages/torchvision/models/resnet.py\", line 285, in forward\n",
      "    return self._forward_impl(x)\n",
      "  File \"/usr0/home/kkuo2/miniconda3/lib/python3.9/site-packages/torchvision/models/resnet.py\", line 276, in _forward_impl\n",
      "    x = self.layer4(x)\n",
      "  File \"/usr0/home/kkuo2/miniconda3/lib/python3.9/site-packages/torch/nn/modules/module.py\", line 1130, in _call_impl\n",
      "    return forward_call(*input, **kwargs)\n",
      "  File \"/usr0/home/kkuo2/miniconda3/lib/python3.9/site-packages/torch/nn/modules/container.py\", line 139, in forward\n",
      "    input = module(input)\n",
      "  File \"/usr0/home/kkuo2/miniconda3/lib/python3.9/site-packages/torch/nn/modules/module.py\", line 1130, in _call_impl\n",
      "    return forward_call(*input, **kwargs)\n",
      "  File \"/usr0/home/kkuo2/miniconda3/lib/python3.9/site-packages/torchvision/models/resnet.py\", line 92, in forward\n",
      "    out = self.conv1(x)\n",
      "  File \"/usr0/home/kkuo2/miniconda3/lib/python3.9/site-packages/torch/nn/modules/module.py\", line 1130, in _call_impl\n",
      "    return forward_call(*input, **kwargs)\n",
      "  File \"/usr0/home/kkuo2/miniconda3/lib/python3.9/site-packages/torch/nn/modules/conv.py\", line 457, in forward\n",
      "    return self._conv_forward(input, self.weight, self.bias)\n",
      "  File \"/usr0/home/kkuo2/miniconda3/lib/python3.9/site-packages/torch/nn/modules/conv.py\", line 453, in _conv_forward\n",
      "    return F.conv2d(input, weight, bias, self.stride,\n",
      "RuntimeError: CUDA out of memory. Tried to allocate 22.00 MiB (GPU 0; 9.75 GiB total capacity; 6.89 GiB already allocated; 58.56 MiB free; 7.00 GiB reserved in total by PyTorch) If reserved memory is >> allocated memory try setting max_split_size_mb to avoid fragmentation.  See documentation for Memory Management and PYTORCH_CUDA_ALLOC_CONF\n"
     ]
    }
   ],
   "source": [
    "import numpy as np\n",
    "# for nlayers in [18, 34, 50, 101, 152]:\n",
    "for nlayers in [18]:\n",
    "    # for bs in np.arange(1, 16)*16:\n",
    "    for bs in np.arange(14,15)*16:\n",
    "        process = run_script([str(bs), str(nlayers)])\n",
    "        process.wait()"
   ]
  },
  {
   "cell_type": "code",
   "execution_count": 18,
   "metadata": {},
   "outputs": [
    {
     "name": "stdout",
     "output_type": "stream",
     "text": [
      "{18: {16: 526280704, 32: 886546944, 48: 1243798528, 64: 1606112768, 80: 2019987456, 96: 2382842368, 112: 2690222592, 128: 3051177472, 144: 3413869056, 160: 3772726272, 176: 4136744960, 192: 4492489216, 208: 4855345152, 224: 5212875264, 240: 5577054208}, 34: {16: 814080000, 32: 1335302656, 48: 1850184704, 64: 2369785344, 80: 2953840640, 96: 3471311360, 112: 3943858688, 128: 4464705024, 144: 4993251840, 160: 5504232448, 176: 6032188928, 192: 6545992192, 208: 7065692160, 224: 7572805120}, 50: {16: 1718650368, 32: 3110325760, 48: 4495230976, 64: 5879480832, 80: 7277264384}, 101: {16: 2606226432, 32: 4653065216, 48: 6689562112}, 152: {16: 3607187968, 32: 6473816576}}\n"
     ]
    }
   ],
   "source": [
    "import pickle as pkl\n",
    "with open(\"mem_stats.pkl\", \"rb\") as f:\n",
    "    mem_stats = pkl.load(f)\n",
    "print(mem_stats)"
   ]
  },
  {
   "cell_type": "code",
   "execution_count": 23,
   "metadata": {},
   "outputs": [
    {
     "data": {
      "text/plain": [
       "Text(0, 0.5, 'Required Memory (GB)')"
      ]
     },
     "execution_count": 23,
     "metadata": {},
     "output_type": "execute_result"
    },
    {
     "data": {
      "image/png": "[encoded data removed]",
      "text/plain": [
       "<Figure size 432x288 with 1 Axes>"
      ]
     },
     "metadata": {
      "needs_background": "light"
     },
     "output_type": "display_data"
    }
   ],
   "source": [
    "import matplotlib.pyplot as plt\n",
    "for k, vs in mem_stats.items():\n",
    "    plt.plot(vs.keys(), np.array(list(vs.values())) / 1e9, label=k, marker='o')\n",
    "plt.plot([0,250], [8,8],linestyle='--', label='Single-GPU limit')\n",
    "plt.legend(title=\"ResNet Layers\")\n",
    "plt.xlabel('Batch Size')\n",
    "plt.ylabel('Required Memory (GB)')"
   ]
  },
  {
   "cell_type": "code",
   "execution_count": null,
   "metadata": {},
   "outputs": [],
   "source": []
  }
 ],
 "metadata": {
  "interpreter": {
   "hash": "2579edb1f96479de9af5ec381cd705a47925862b231679691c354444ea9e3fad"
  },
  "kernelspec": {
   "display_name": "Python 3.9.5 ('base')",
   "language": "python",
   "name": "python3"
  },
  "language_info": {
   "codemirror_mode": {
    "name": "ipython",
    "version": 3
   },
   "file_extension": ".py",
   "mimetype": "text/x-python",
   "name": "python",
   "nbconvert_exporter": "python",
   "pygments_lexer": "ipython3",
   "version": "3.9.5"
  },
  "orig_nbformat": 4
 },
 "nbformat": 4,
 "nbformat_minor": 2
}
