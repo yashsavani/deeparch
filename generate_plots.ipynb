{
 "cells": [
  {
   "cell_type": "code",
   "execution_count": 2,
   "metadata": {},
   "outputs": [],
   "source": [
    "import os\n",
    "import subprocess\n",
    "FNULL = open(os.devnull, 'w')\n",
    "\n",
    "# Run a single script per configuration so CuDA environment is reset\n",
    "args_names = [\n",
    "    'batch-size',\n",
    "    'num-layers',\n",
    "    'model-type',\n",
    "    'autocast'\n",
    "]\n",
    "\n",
    "def run_script(args):\n",
    "\n",
    "    main_command = [\n",
    "        'python3',\n",
    "        'get_mem_alloc.py',\n",
    "    ]\n",
    "\n",
    "    options = {}\n",
    "    options.update(dict(zip(args_names, args)))\n",
    "    \n",
    "\n",
    "    whole_command = main_command\n",
    "    for k, v in options.items():\n",
    "        whole_command.append('--' + k)\n",
    "        whole_command.append(v)\n",
    "\n",
    "    print(whole_command)\n",
    "    process = subprocess.Popen(args=whole_command, stdout=FNULL)\n",
    "    return process"
   ]
  },
  {
   "cell_type": "code",
   "execution_count": 32,
   "metadata": {},
   "outputs": [],
   "source": [
    "import numpy as np\n",
    "autocast = 'true'\n",
    "\n",
    "for nl in [18,34]:\n",
    "    for bs in np.arange(1, 50)*8:\n",
    "        process = run_script([str(bs), str(nl), 'resnet', autocast])\n",
    "        process.wait()\n",
    "\n",
    "for nl in [50, 101, 152]:\n",
    "    for bs in np.arange(1, 17)*8:\n",
    "        process = run_script([str(bs), str(nl), 'resnet', autocast])\n",
    "        process.wait()"
   ]
  },
  {
   "cell_type": "code",
   "execution_count": 43,
   "metadata": {},
   "outputs": [],
   "source": [
    "import pickle as pkl\n",
    "with open(\"mem_stats.pkl\", 'rb') as f:\n",
    "    mem_stats = pkl.load(f)"
   ]
  },
  {
   "cell_type": "code",
   "execution_count": 42,
   "metadata": {},
   "outputs": [],
   "source": []
  },
  {
   "cell_type": "code",
   "execution_count": 44,
   "metadata": {},
   "outputs": [
    {
     "data": {
      "image/png": "[encoded data removed]",
      "text/plain": [
       "<Figure size 432x288 with 1 Axes>"
      ]
     },
     "metadata": {
      "needs_background": "light"
     },
     "output_type": "display_data"
    }
   ],
   "source": [
    "import numpy as np\n",
    "import matplotlib.pyplot as plt\n",
    "x = np.arange(8,400,8)\n",
    "# for nl in [18, 34, 50, 101, 152]:\n",
    "for nl in [18,34,50,101,152]:\n",
    "    y = []\n",
    "    for bs in x:\n",
    "        m = mem_stats['resnet', nl, bs, False]\n",
    "        if m is None or m > 8*1e9:\n",
    "            break\n",
    "        else:\n",
    "            y.append(m/1e9)\n",
    "    plt.plot(x[:len(y)],y,label=nl,marker='o')\n",
    "plt.plot([0,400], [8,8],linestyle='--', label='Single-GPU limit')\n",
    "plt.xlim(0, 400)\n",
    "plt.legend(title=\"ResNet Layers\")\n",
    "plt.xlabel('Batch Size')\n",
    "plt.ylabel('Required Memory (GB)')\n",
    "plt.savefig(\"figures/resnet_memory.pdf\")"
   ]
  },
  {
   "cell_type": "code",
   "execution_count": null,
   "metadata": {},
   "outputs": [],
   "source": []
  },
  {
   "cell_type": "code",
   "execution_count": null,
   "metadata": {},
   "outputs": [],
   "source": []
  },
  {
   "cell_type": "code",
   "execution_count": null,
   "metadata": {},
   "outputs": [],
   "source": []
  },
  {
   "cell_type": "code",
   "execution_count": 15,
   "metadata": {},
   "outputs": [
    {
     "name": "stdout",
     "output_type": "stream",
     "text": [
      "                     \n",
      "conv1                conv1\n",
      "bn1                  bn1\n",
      "relu                 relu\n",
      "maxpool              maxpool\n",
      "layer1               layer1\n",
      "layer1.0             layer1.0\n",
      "layer1.0.conv1       layer1.0.conv1\n",
      "layer1.0.bn1         layer1.0.bn1\n",
      "layer1.0.conv2       layer1.0.conv2\n",
      "layer1.0.bn2         layer1.0.bn2\n",
      "layer1.0.conv3       layer1.0.conv3\n",
      "layer1.0.bn3         layer1.0.bn3\n",
      "layer1.0.relu        layer1.0.relu\n",
      "layer1.0.downsample  layer1.0.downsample\n",
      "layer1.0.downsample.0 layer1.0.downsample.0\n",
      "layer1.0.downsample.1 layer1.0.downsample.1\n",
      "layer1.1             layer1.1\n",
      "layer1.1.conv1       layer1.1.conv1\n",
      "layer1.1.bn1         layer1.1.bn1\n",
      "layer1.1.conv2       layer1.1.conv2\n",
      "layer1.1.bn2         layer1.1.bn2\n",
      "layer1.1.conv3       layer1.1.conv3\n",
      "layer1.1.bn3         layer1.1.bn3\n",
      "layer1.1.relu        layer1.1.relu\n",
      "layer1.2             layer1.2\n",
      "layer1.2.conv1       layer1.2.conv1\n",
      "layer1.2.bn1         layer1.2.bn1\n",
      "layer1.2.conv2       layer1.2.conv2\n",
      "layer1.2.bn2         layer1.2.bn2\n",
      "layer1.2.conv3       layer1.2.conv3\n",
      "layer1.2.bn3         layer1.2.bn3\n",
      "layer1.2.relu        layer1.2.relu\n",
      "layer2               layer2\n",
      "layer2.0             layer2.0\n",
      "layer2.0.conv1       layer2.0.conv1\n",
      "layer2.0.bn1         layer2.0.bn1\n",
      "layer2.0.conv2       layer2.0.conv2\n",
      "layer2.0.bn2         layer2.0.bn2\n",
      "layer2.0.conv3       layer2.0.conv3\n",
      "layer2.0.bn3         layer2.0.bn3\n",
      "layer2.0.relu        layer2.0.relu\n",
      "layer2.0.downsample  layer2.0.downsample\n",
      "layer2.0.downsample.0 layer2.0.downsample.0\n",
      "layer2.0.downsample.1 layer2.0.downsample.1\n",
      "layer2.1             layer2.1\n",
      "layer2.1.conv1       layer2.1.conv1\n",
      "layer2.1.bn1         layer2.1.bn1\n",
      "layer2.1.conv2       layer2.1.conv2\n",
      "layer2.1.bn2         layer2.1.bn2\n",
      "layer2.1.conv3       layer2.1.conv3\n",
      "layer2.1.bn3         layer2.1.bn3\n",
      "layer2.1.relu        layer2.1.relu\n",
      "layer2.2             layer2.2\n",
      "layer2.2.conv1       layer2.2.conv1\n",
      "layer2.2.bn1         layer2.2.bn1\n",
      "layer2.2.conv2       layer2.2.conv2\n",
      "layer2.2.bn2         layer2.2.bn2\n",
      "layer2.2.conv3       layer2.2.conv3\n",
      "layer2.2.bn3         layer2.2.bn3\n",
      "layer2.2.relu        layer2.2.relu\n",
      "layer2.3             layer2.3\n",
      "layer2.3.conv1       layer2.3.conv1\n",
      "layer2.3.bn1         layer2.3.bn1\n",
      "layer2.3.conv2       layer2.3.conv2\n",
      "layer2.3.bn2         layer2.3.bn2\n",
      "layer2.3.conv3       layer2.3.conv3\n",
      "layer2.3.bn3         layer2.3.bn3\n",
      "layer2.3.relu        layer2.3.relu\n",
      "layer3               layer3\n",
      "layer3.0             layer3.0\n",
      "layer3.0.conv1       layer3.0.conv1\n",
      "layer3.0.bn1         layer3.0.bn1\n",
      "layer3.0.conv2       layer3.0.conv2\n",
      "layer3.0.bn2         layer3.0.bn2\n",
      "layer3.0.conv3       layer3.0.conv3\n",
      "layer3.0.bn3         layer3.0.bn3\n",
      "layer3.0.relu        layer3.0.relu\n",
      "layer3.0.downsample  layer3.0.downsample\n",
      "layer3.0.downsample.0 layer3.0.downsample.0\n",
      "layer3.0.downsample.1 layer3.0.downsample.1\n",
      "layer3.1             layer3.1\n",
      "layer3.1.conv1       layer3.1.conv1\n",
      "layer3.1.bn1         layer3.1.bn1\n",
      "layer3.1.conv2       layer3.1.conv2\n",
      "layer3.1.bn2         layer3.1.bn2\n",
      "layer3.1.conv3       layer3.1.conv3\n",
      "layer3.1.bn3         layer3.1.bn3\n",
      "layer3.1.relu        layer3.1.relu\n",
      "layer3.2             layer3.2\n",
      "layer3.2.conv1       layer3.2.conv1\n",
      "layer3.2.bn1         layer3.2.bn1\n",
      "layer3.2.conv2       layer3.2.conv2\n",
      "layer3.2.bn2         layer3.2.bn2\n",
      "layer3.2.conv3       layer3.2.conv3\n",
      "layer3.2.bn3         layer3.2.bn3\n",
      "layer3.2.relu        layer3.2.relu\n",
      "layer3.3             layer3.3\n",
      "layer3.3.conv1       layer3.3.conv1\n",
      "layer3.3.bn1         layer3.3.bn1\n"
     ]
    }
   ],
   "source": [
    "\n",
    "r50 = torchvision.models.resnet50()\n",
    "r101 = torchvision.models.resnet101()\n",
    "l = list(r50.named_modules())\n",
    "k = list(r101.named_modules())\n",
    "for i in range(100):\n",
    "    print(l[i][0].ljust(20), k[i][0])"
   ]
  },
  {
   "cell_type": "code",
   "execution_count": null,
   "metadata": {},
   "outputs": [],
   "source": []
  }
 ],
 "metadata": {
  "kernelspec": {
   "display_name": "base",
   "language": "python",
   "name": "python3"
  },
  "language_info": {
   "codemirror_mode": {
    "name": "ipython",
    "version": 3
   },
   "file_extension": ".py",
   "mimetype": "text/x-python",
   "name": "python",
   "nbconvert_exporter": "python",
   "pygments_lexer": "ipython3",
   "version": "3.9.5"
  },
  "orig_nbformat": 4,
  "vscode": {
   "interpreter": {
    "hash": "0c337a7465396d3a7cae5a0102ba004d820769133b2745b4e1a24d04a482734f"
   }
  }
 },
 "nbformat": 4,
 "nbformat_minor": 2
}
